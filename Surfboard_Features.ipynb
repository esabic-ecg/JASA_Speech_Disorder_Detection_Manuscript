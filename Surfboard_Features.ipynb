{
 "cells": [
  {
   "cell_type": "markdown",
   "metadata": {},
   "source": [
    "### Import necessary modules, define components, and define descriptive statistics to be conducted on identified components."
   ]
  },
  {
   "cell_type": "code",
   "execution_count": 1,
   "metadata": {},
   "outputs": [],
   "source": [
    "from surfboard.sound import Waveform\n",
    "from surfboard.feature_extraction import extract_features\n",
    "import glob\n",
    "import numpy as np\n",
    "import pandas as pd"
   ]
  },
  {
   "cell_type": "code",
   "execution_count": 2,
   "metadata": {},
   "outputs": [],
   "source": [
    "components_list = ['spectral_slope','spectral_flux','spectral_entropy','spectral_centroid',\n",
    "                  'spectral_spread','spectral_skewness','spectral_kurtosis','spectral_flatness','spectral_rolloff',\n",
    "                  'f0_contour','crest_factor','ppe','dfa','lpc','lsf','formants',\n",
    "                  'kurtosis_slidingwindow','shannon_entropy','loudness','shannon_entropy_slidingwindow']\n",
    "\n",
    "statistics_list = ['mean','std','first_derivative_mean','first_derivative_std']"
   ]
  },
  {
   "cell_type": "markdown",
   "metadata": {},
   "source": [
    "### Iterate through each wave file in a given location after specifying an intonation (All recordings are located in the same folder within the employed system). Append the resulting waveform (necessary for the Soundwave package) with its recording number (to determine whether it is a target or not).  "
   ]
  },
  {
   "cell_type": "code",
   "execution_count": 51,
   "metadata": {},
   "outputs": [
    {
     "name": "stdout",
     "output_type": "stream",
     "text": [
      "2028\n"
     ]
    }
   ],
   "source": [
    "waveforms = []\n",
    "recording_numbers = []\n",
    "\n",
    "intonation = \"n\" # first n, then l, h, lhl...\n",
    "\n",
    "for wave_file in glob.glob(r\"C:\\Users\\esabic\\Desktop\\Data_Exporting\\u_\\*.wav\"):\n",
    "    \n",
    "    split_filename = wave_file.split(\"\\\\\")\n",
    "    just_file = split_filename[-1]  \n",
    "    \n",
    "    fetch_letter = just_file.split(\".\") # TODO condense this...\n",
    "    fetch_letter = fetch_letter[0]\n",
    "    fetch_letter = just_file.split(\"_\")\n",
    "    fetch_letter = fetch_letter[1]\n",
    "    fetch_letter = fetch_letter.split(\".\")\n",
    "    fetch_letter = fetch_letter[0]\n",
    "    \n",
    "    if fetch_letter == intonation: \n",
    "    \n",
    "        split_just_number = just_file.split(\"-\")\n",
    "        recording_number = int(split_just_number[0])\n",
    "        recording_numbers.append(recording_number)\n",
    "        waveforms.append(Waveform(wave_file))\n",
    "\n",
    "print(len(recording_numbers))\n",
    "    "
   ]
  },
  {
   "cell_type": "code",
   "execution_count": 52,
   "metadata": {},
   "outputs": [
    {
     "name": "stderr",
     "output_type": "stream",
     "text": [
      "Extracting features...:  13%|███████▏                                               | 264/2028 [01:14<10:19,  2.85it/s]C:\\Users\\esabic\\AppData\\Roaming\\Python\\Python37\\site-packages\\numpy\\core\\fromnumeric.py:3373: RuntimeWarning: Mean of empty slice.\n",
      "  out=out, **kwargs)\n",
      "C:\\Users\\esabic\\AppData\\Roaming\\Python\\Python37\\site-packages\\numpy\\core\\_methods.py:170: RuntimeWarning: invalid value encountered in double_scalars\n",
      "  ret = ret.dtype.type(ret / rcount)\n",
      "C:\\Users\\esabic\\AppData\\Roaming\\Python\\Python37\\site-packages\\numpy\\core\\_methods.py:234: RuntimeWarning: Degrees of freedom <= 0 for slice\n",
      "  keepdims=keepdims)\n",
      "C:\\Users\\esabic\\AppData\\Roaming\\Python\\Python37\\site-packages\\numpy\\core\\_methods.py:195: RuntimeWarning: invalid value encountered in true_divide\n",
      "  arrmean, rcount, out=arrmean, casting='unsafe', subok=False)\n",
      "C:\\Users\\esabic\\AppData\\Roaming\\Python\\Python37\\site-packages\\numpy\\core\\_methods.py:226: RuntimeWarning: invalid value encountered in double_scalars\n",
      "  ret = ret.dtype.type(ret / rcount)\n",
      "Extracting features...:  13%|███████▎                                               | 270/2028 [01:16<09:53,  2.96it/s]C:\\Users\\esabic\\AppData\\Roaming\\Python\\Python37\\site-packages\\numpy\\lib\\histograms.py:905: RuntimeWarning: invalid value encountered in true_divide\n",
      "  return n/db/n.sum(), bin_edges\n",
      "Extracting features...:  18%|█████████▋                                             | 359/2028 [01:41<08:17,  3.35it/s]C:\\Users\\esabic\\AppData\\Roaming\\Python\\Python37\\site-packages\\numpy\\core\\fromnumeric.py:3373: RuntimeWarning: Mean of empty slice.\n",
      "  out=out, **kwargs)\n",
      "C:\\Users\\esabic\\AppData\\Roaming\\Python\\Python37\\site-packages\\numpy\\core\\_methods.py:170: RuntimeWarning: invalid value encountered in double_scalars\n",
      "  ret = ret.dtype.type(ret / rcount)\n",
      "C:\\Users\\esabic\\AppData\\Roaming\\Python\\Python37\\site-packages\\numpy\\core\\_methods.py:234: RuntimeWarning: Degrees of freedom <= 0 for slice\n",
      "  keepdims=keepdims)\n",
      "C:\\Users\\esabic\\AppData\\Roaming\\Python\\Python37\\site-packages\\numpy\\core\\_methods.py:195: RuntimeWarning: invalid value encountered in true_divide\n",
      "  arrmean, rcount, out=arrmean, casting='unsafe', subok=False)\n",
      "C:\\Users\\esabic\\AppData\\Roaming\\Python\\Python37\\site-packages\\numpy\\core\\_methods.py:226: RuntimeWarning: invalid value encountered in double_scalars\n",
      "  ret = ret.dtype.type(ret / rcount)\n",
      "Extracting features...:  21%|███████████▋                                           | 432/2028 [02:02<07:18,  3.64it/s]C:\\Users\\esabic\\AppData\\Roaming\\Python\\Python37\\site-packages\\numpy\\core\\fromnumeric.py:3373: RuntimeWarning: Mean of empty slice.\n",
      "  out=out, **kwargs)\n",
      "C:\\Users\\esabic\\AppData\\Roaming\\Python\\Python37\\site-packages\\numpy\\core\\_methods.py:170: RuntimeWarning: invalid value encountered in double_scalars\n",
      "  ret = ret.dtype.type(ret / rcount)\n",
      "C:\\Users\\esabic\\AppData\\Roaming\\Python\\Python37\\site-packages\\numpy\\core\\_methods.py:234: RuntimeWarning: Degrees of freedom <= 0 for slice\n",
      "  keepdims=keepdims)\n",
      "C:\\Users\\esabic\\AppData\\Roaming\\Python\\Python37\\site-packages\\numpy\\core\\_methods.py:195: RuntimeWarning: invalid value encountered in true_divide\n",
      "  arrmean, rcount, out=arrmean, casting='unsafe', subok=False)\n",
      "C:\\Users\\esabic\\AppData\\Roaming\\Python\\Python37\\site-packages\\numpy\\core\\_methods.py:226: RuntimeWarning: invalid value encountered in double_scalars\n",
      "  ret = ret.dtype.type(ret / rcount)\n",
      "Extracting features...:  22%|███████████▉                                           | 439/2028 [02:03<07:02,  3.76it/s]C:\\Users\\esabic\\AppData\\Roaming\\Python\\Python37\\site-packages\\numpy\\core\\fromnumeric.py:3373: RuntimeWarning: Mean of empty slice.\n",
      "  out=out, **kwargs)\n",
      "C:\\Users\\esabic\\AppData\\Roaming\\Python\\Python37\\site-packages\\numpy\\core\\_methods.py:170: RuntimeWarning: invalid value encountered in double_scalars\n",
      "  ret = ret.dtype.type(ret / rcount)\n",
      "C:\\Users\\esabic\\AppData\\Roaming\\Python\\Python37\\site-packages\\numpy\\core\\_methods.py:234: RuntimeWarning: Degrees of freedom <= 0 for slice\n",
      "  keepdims=keepdims)\n",
      "C:\\Users\\esabic\\AppData\\Roaming\\Python\\Python37\\site-packages\\numpy\\core\\_methods.py:195: RuntimeWarning: invalid value encountered in true_divide\n",
      "  arrmean, rcount, out=arrmean, casting='unsafe', subok=False)\n",
      "C:\\Users\\esabic\\AppData\\Roaming\\Python\\Python37\\site-packages\\numpy\\core\\_methods.py:226: RuntimeWarning: invalid value encountered in double_scalars\n",
      "  ret = ret.dtype.type(ret / rcount)\n",
      "Extracting features...:  22%|████████████                                           | 444/2028 [02:05<06:49,  3.86it/s]C:\\Users\\esabic\\AppData\\Roaming\\Python\\Python37\\site-packages\\numpy\\core\\fromnumeric.py:3373: RuntimeWarning: Mean of empty slice.\n",
      "  out=out, **kwargs)\n",
      "C:\\Users\\esabic\\AppData\\Roaming\\Python\\Python37\\site-packages\\numpy\\core\\_methods.py:170: RuntimeWarning: invalid value encountered in double_scalars\n",
      "  ret = ret.dtype.type(ret / rcount)\n",
      "C:\\Users\\esabic\\AppData\\Roaming\\Python\\Python37\\site-packages\\numpy\\core\\_methods.py:234: RuntimeWarning: Degrees of freedom <= 0 for slice\n",
      "  keepdims=keepdims)\n",
      "C:\\Users\\esabic\\AppData\\Roaming\\Python\\Python37\\site-packages\\numpy\\core\\_methods.py:195: RuntimeWarning: invalid value encountered in true_divide\n",
      "  arrmean, rcount, out=arrmean, casting='unsafe', subok=False)\n",
      "C:\\Users\\esabic\\AppData\\Roaming\\Python\\Python37\\site-packages\\numpy\\core\\_methods.py:226: RuntimeWarning: invalid value encountered in double_scalars\n",
      "  ret = ret.dtype.type(ret / rcount)\n",
      "Extracting features...:  24%|█████████████▏                                         | 485/2028 [02:15<06:46,  3.80it/s]C:\\Users\\esabic\\AppData\\Roaming\\Python\\Python37\\site-packages\\numpy\\core\\fromnumeric.py:3373: RuntimeWarning: Mean of empty slice.\n",
      "  out=out, **kwargs)\n",
      "C:\\Users\\esabic\\AppData\\Roaming\\Python\\Python37\\site-packages\\numpy\\core\\_methods.py:170: RuntimeWarning: invalid value encountered in double_scalars\n",
      "  ret = ret.dtype.type(ret / rcount)\n",
      "C:\\Users\\esabic\\AppData\\Roaming\\Python\\Python37\\site-packages\\numpy\\core\\_methods.py:234: RuntimeWarning: Degrees of freedom <= 0 for slice\n",
      "  keepdims=keepdims)\n",
      "C:\\Users\\esabic\\AppData\\Roaming\\Python\\Python37\\site-packages\\numpy\\core\\_methods.py:195: RuntimeWarning: invalid value encountered in true_divide\n",
      "  arrmean, rcount, out=arrmean, casting='unsafe', subok=False)\n",
      "C:\\Users\\esabic\\AppData\\Roaming\\Python\\Python37\\site-packages\\numpy\\core\\_methods.py:226: RuntimeWarning: invalid value encountered in double_scalars\n",
      "  ret = ret.dtype.type(ret / rcount)\n",
      "Extracting features...:  33%|██████████████████▏                                    | 670/2028 [03:15<07:19,  3.09it/s]C:\\Users\\esabic\\AppData\\Roaming\\Python\\Python37\\site-packages\\numpy\\core\\fromnumeric.py:3373: RuntimeWarning: Mean of empty slice.\n",
      "  out=out, **kwargs)\n",
      "C:\\Users\\esabic\\AppData\\Roaming\\Python\\Python37\\site-packages\\numpy\\core\\_methods.py:170: RuntimeWarning: invalid value encountered in double_scalars\n",
      "  ret = ret.dtype.type(ret / rcount)\n",
      "C:\\Users\\esabic\\AppData\\Roaming\\Python\\Python37\\site-packages\\numpy\\core\\_methods.py:234: RuntimeWarning: Degrees of freedom <= 0 for slice\n",
      "  keepdims=keepdims)\n",
      "C:\\Users\\esabic\\AppData\\Roaming\\Python\\Python37\\site-packages\\numpy\\core\\_methods.py:195: RuntimeWarning: invalid value encountered in true_divide\n",
      "  arrmean, rcount, out=arrmean, casting='unsafe', subok=False)\n",
      "C:\\Users\\esabic\\AppData\\Roaming\\Python\\Python37\\site-packages\\numpy\\core\\_methods.py:226: RuntimeWarning: invalid value encountered in double_scalars\n",
      "  ret = ret.dtype.type(ret / rcount)\n",
      "Extracting features...:  33%|██████████████████▎                                    | 677/2028 [03:17<07:29,  3.01it/s]C:\\Users\\esabic\\AppData\\Roaming\\Python\\Python37\\site-packages\\numpy\\core\\fromnumeric.py:3373: RuntimeWarning: Mean of empty slice.\n",
      "  out=out, **kwargs)\n",
      "C:\\Users\\esabic\\AppData\\Roaming\\Python\\Python37\\site-packages\\numpy\\core\\_methods.py:170: RuntimeWarning: invalid value encountered in double_scalars\n",
      "  ret = ret.dtype.type(ret / rcount)\n",
      "C:\\Users\\esabic\\AppData\\Roaming\\Python\\Python37\\site-packages\\numpy\\core\\_methods.py:234: RuntimeWarning: Degrees of freedom <= 0 for slice\n",
      "  keepdims=keepdims)\n",
      "C:\\Users\\esabic\\AppData\\Roaming\\Python\\Python37\\site-packages\\numpy\\core\\_methods.py:195: RuntimeWarning: invalid value encountered in true_divide\n",
      "  arrmean, rcount, out=arrmean, casting='unsafe', subok=False)\n",
      "C:\\Users\\esabic\\AppData\\Roaming\\Python\\Python37\\site-packages\\numpy\\core\\_methods.py:226: RuntimeWarning: invalid value encountered in double_scalars\n",
      "  ret = ret.dtype.type(ret / rcount)\n"
     ]
    },
    {
     "name": "stderr",
     "output_type": "stream",
     "text": [
      "Extracting features...:  34%|██████████████████▌                                    | 683/2028 [03:19<07:55,  2.83it/s]C:\\Users\\esabic\\AppData\\Roaming\\Python\\Python37\\site-packages\\numpy\\core\\fromnumeric.py:3373: RuntimeWarning: Mean of empty slice.\n",
      "  out=out, **kwargs)\n",
      "C:\\Users\\esabic\\AppData\\Roaming\\Python\\Python37\\site-packages\\numpy\\core\\_methods.py:170: RuntimeWarning: invalid value encountered in double_scalars\n",
      "  ret = ret.dtype.type(ret / rcount)\n",
      "C:\\Users\\esabic\\AppData\\Roaming\\Python\\Python37\\site-packages\\numpy\\core\\_methods.py:234: RuntimeWarning: Degrees of freedom <= 0 for slice\n",
      "  keepdims=keepdims)\n",
      "C:\\Users\\esabic\\AppData\\Roaming\\Python\\Python37\\site-packages\\numpy\\core\\_methods.py:195: RuntimeWarning: invalid value encountered in true_divide\n",
      "  arrmean, rcount, out=arrmean, casting='unsafe', subok=False)\n",
      "C:\\Users\\esabic\\AppData\\Roaming\\Python\\Python37\\site-packages\\numpy\\core\\_methods.py:226: RuntimeWarning: invalid value encountered in double_scalars\n",
      "  ret = ret.dtype.type(ret / rcount)\n",
      "Extracting features...:  36%|███████████████████▊                                   | 731/2028 [03:36<08:25,  2.56it/s]C:\\Users\\esabic\\AppData\\Roaming\\Python\\Python37\\site-packages\\numpy\\core\\fromnumeric.py:3373: RuntimeWarning: Mean of empty slice.\n",
      "  out=out, **kwargs)\n",
      "C:\\Users\\esabic\\AppData\\Roaming\\Python\\Python37\\site-packages\\numpy\\core\\_methods.py:170: RuntimeWarning: invalid value encountered in double_scalars\n",
      "  ret = ret.dtype.type(ret / rcount)\n",
      "C:\\Users\\esabic\\AppData\\Roaming\\Python\\Python37\\site-packages\\numpy\\core\\_methods.py:234: RuntimeWarning: Degrees of freedom <= 0 for slice\n",
      "  keepdims=keepdims)\n",
      "C:\\Users\\esabic\\AppData\\Roaming\\Python\\Python37\\site-packages\\numpy\\core\\_methods.py:195: RuntimeWarning: invalid value encountered in true_divide\n",
      "  arrmean, rcount, out=arrmean, casting='unsafe', subok=False)\n",
      "C:\\Users\\esabic\\AppData\\Roaming\\Python\\Python37\\site-packages\\numpy\\core\\_methods.py:226: RuntimeWarning: invalid value encountered in double_scalars\n",
      "  ret = ret.dtype.type(ret / rcount)\n",
      "Extracting features...:  40%|█████████████████████▊                                 | 803/2028 [04:00<05:42,  3.57it/s]C:\\Users\\esabic\\AppData\\Roaming\\Python\\Python37\\site-packages\\numpy\\core\\fromnumeric.py:3373: RuntimeWarning: Mean of empty slice.\n",
      "  out=out, **kwargs)\n",
      "C:\\Users\\esabic\\AppData\\Roaming\\Python\\Python37\\site-packages\\numpy\\core\\_methods.py:170: RuntimeWarning: invalid value encountered in double_scalars\n",
      "  ret = ret.dtype.type(ret / rcount)\n",
      "C:\\Users\\esabic\\AppData\\Roaming\\Python\\Python37\\site-packages\\numpy\\core\\_methods.py:234: RuntimeWarning: Degrees of freedom <= 0 for slice\n",
      "  keepdims=keepdims)\n",
      "C:\\Users\\esabic\\AppData\\Roaming\\Python\\Python37\\site-packages\\numpy\\core\\_methods.py:195: RuntimeWarning: invalid value encountered in true_divide\n",
      "  arrmean, rcount, out=arrmean, casting='unsafe', subok=False)\n",
      "C:\\Users\\esabic\\AppData\\Roaming\\Python\\Python37\\site-packages\\numpy\\core\\_methods.py:226: RuntimeWarning: invalid value encountered in double_scalars\n",
      "  ret = ret.dtype.type(ret / rcount)\n",
      "Extracting features...:  40%|██████████████████████                                 | 813/2028 [04:02<06:35,  3.07it/s]C:\\Users\\esabic\\AppData\\Roaming\\Python\\Python37\\site-packages\\numpy\\core\\fromnumeric.py:3373: RuntimeWarning: Mean of empty slice.\n",
      "  out=out, **kwargs)\n",
      "C:\\Users\\esabic\\AppData\\Roaming\\Python\\Python37\\site-packages\\numpy\\core\\_methods.py:170: RuntimeWarning: invalid value encountered in double_scalars\n",
      "  ret = ret.dtype.type(ret / rcount)\n",
      "C:\\Users\\esabic\\AppData\\Roaming\\Python\\Python37\\site-packages\\numpy\\core\\_methods.py:234: RuntimeWarning: Degrees of freedom <= 0 for slice\n",
      "  keepdims=keepdims)\n",
      "C:\\Users\\esabic\\AppData\\Roaming\\Python\\Python37\\site-packages\\numpy\\core\\_methods.py:195: RuntimeWarning: invalid value encountered in true_divide\n",
      "  arrmean, rcount, out=arrmean, casting='unsafe', subok=False)\n",
      "C:\\Users\\esabic\\AppData\\Roaming\\Python\\Python37\\site-packages\\numpy\\core\\_methods.py:226: RuntimeWarning: invalid value encountered in double_scalars\n",
      "  ret = ret.dtype.type(ret / rcount)\n",
      "Extracting features...:  41%|██████████████████████▊                                | 839/2028 [04:13<07:30,  2.64it/s]C:\\Users\\esabic\\AppData\\Roaming\\Python\\Python37\\site-packages\\numpy\\core\\fromnumeric.py:3373: RuntimeWarning: Mean of empty slice.\n",
      "  out=out, **kwargs)\n",
      "C:\\Users\\esabic\\AppData\\Roaming\\Python\\Python37\\site-packages\\numpy\\core\\_methods.py:170: RuntimeWarning: invalid value encountered in double_scalars\n",
      "  ret = ret.dtype.type(ret / rcount)\n",
      "C:\\Users\\esabic\\AppData\\Roaming\\Python\\Python37\\site-packages\\numpy\\core\\_methods.py:234: RuntimeWarning: Degrees of freedom <= 0 for slice\n",
      "  keepdims=keepdims)\n",
      "C:\\Users\\esabic\\AppData\\Roaming\\Python\\Python37\\site-packages\\numpy\\core\\_methods.py:195: RuntimeWarning: invalid value encountered in true_divide\n",
      "  arrmean, rcount, out=arrmean, casting='unsafe', subok=False)\n",
      "C:\\Users\\esabic\\AppData\\Roaming\\Python\\Python37\\site-packages\\numpy\\core\\_methods.py:226: RuntimeWarning: invalid value encountered in double_scalars\n",
      "  ret = ret.dtype.type(ret / rcount)\n",
      "Extracting features...:  77%|█████████████████████████████████████████▍            | 1555/2028 [07:44<02:08,  3.70it/s]C:\\Users\\esabic\\AppData\\Roaming\\Python\\Python37\\site-packages\\numpy\\lib\\histograms.py:905: RuntimeWarning: invalid value encountered in true_divide\n",
      "  return n/db/n.sum(), bin_edges\n",
      "Extracting features...:  94%|██████████████████████████████████████████████████▊   | 1907/2028 [09:29<00:28,  4.27it/s]C:\\Users\\esabic\\AppData\\Roaming\\Python\\Python37\\site-packages\\numpy\\core\\fromnumeric.py:3373: RuntimeWarning: Mean of empty slice.\n",
      "  out=out, **kwargs)\n",
      "C:\\Users\\esabic\\AppData\\Roaming\\Python\\Python37\\site-packages\\numpy\\core\\_methods.py:170: RuntimeWarning: invalid value encountered in double_scalars\n",
      "  ret = ret.dtype.type(ret / rcount)\n",
      "C:\\Users\\esabic\\AppData\\Roaming\\Python\\Python37\\site-packages\\numpy\\core\\_methods.py:234: RuntimeWarning: Degrees of freedom <= 0 for slice\n",
      "  keepdims=keepdims)\n",
      "C:\\Users\\esabic\\AppData\\Roaming\\Python\\Python37\\site-packages\\numpy\\core\\_methods.py:195: RuntimeWarning: invalid value encountered in true_divide\n",
      "  arrmean, rcount, out=arrmean, casting='unsafe', subok=False)\n",
      "C:\\Users\\esabic\\AppData\\Roaming\\Python\\Python37\\site-packages\\numpy\\core\\_methods.py:226: RuntimeWarning: invalid value encountered in double_scalars\n",
      "  ret = ret.dtype.type(ret / rcount)\n",
      "Extracting features...:  95%|███████████████████████████████████████████████████▏  | 1923/2028 [09:33<00:34,  3.02it/s]C:\\Users\\esabic\\AppData\\Roaming\\Python\\Python37\\site-packages\\numpy\\core\\fromnumeric.py:3373: RuntimeWarning: Mean of empty slice.\n",
      "  out=out, **kwargs)\n",
      "C:\\Users\\esabic\\AppData\\Roaming\\Python\\Python37\\site-packages\\numpy\\core\\_methods.py:170: RuntimeWarning: invalid value encountered in double_scalars\n",
      "  ret = ret.dtype.type(ret / rcount)\n",
      "C:\\Users\\esabic\\AppData\\Roaming\\Python\\Python37\\site-packages\\numpy\\core\\_methods.py:234: RuntimeWarning: Degrees of freedom <= 0 for slice\n",
      "  keepdims=keepdims)\n",
      "C:\\Users\\esabic\\AppData\\Roaming\\Python\\Python37\\site-packages\\numpy\\core\\_methods.py:195: RuntimeWarning: invalid value encountered in true_divide\n",
      "  arrmean, rcount, out=arrmean, casting='unsafe', subok=False)\n",
      "C:\\Users\\esabic\\AppData\\Roaming\\Python\\Python37\\site-packages\\numpy\\core\\_methods.py:226: RuntimeWarning: invalid value encountered in double_scalars\n",
      "  ret = ret.dtype.type(ret / rcount)\n",
      "Extracting features...:  95%|███████████████████████████████████████████████████▌  | 1936/2028 [09:37<00:24,  3.80it/s]C:\\Users\\esabic\\AppData\\Roaming\\Python\\Python37\\site-packages\\numpy\\core\\fromnumeric.py:3373: RuntimeWarning: Mean of empty slice.\n",
      "  out=out, **kwargs)\n",
      "C:\\Users\\esabic\\AppData\\Roaming\\Python\\Python37\\site-packages\\numpy\\core\\_methods.py:170: RuntimeWarning: invalid value encountered in double_scalars\n",
      "  ret = ret.dtype.type(ret / rcount)\n",
      "C:\\Users\\esabic\\AppData\\Roaming\\Python\\Python37\\site-packages\\numpy\\core\\_methods.py:234: RuntimeWarning: Degrees of freedom <= 0 for slice\n",
      "  keepdims=keepdims)\n",
      "C:\\Users\\esabic\\AppData\\Roaming\\Python\\Python37\\site-packages\\numpy\\core\\_methods.py:195: RuntimeWarning: invalid value encountered in true_divide\n",
      "  arrmean, rcount, out=arrmean, casting='unsafe', subok=False)\n",
      "C:\\Users\\esabic\\AppData\\Roaming\\Python\\Python37\\site-packages\\numpy\\core\\_methods.py:226: RuntimeWarning: invalid value encountered in double_scalars\n",
      "  ret = ret.dtype.type(ret / rcount)\n"
     ]
    },
    {
     "name": "stderr",
     "output_type": "stream",
     "text": [
      "Extracting features...: 100%|██████████████████████████████████████████████████████| 2028/2028 [10:03<00:00,  3.36it/s]\n"
     ]
    }
   ],
   "source": [
    "feature_df = extract_features(\n",
    "    waveforms = waveforms, components_list = components_list, statistics_list = statistics_list)"
   ]
  },
  {
   "cell_type": "code",
   "execution_count": 53,
   "metadata": {},
   "outputs": [
    {
     "name": "stdout",
     "output_type": "stream",
     "text": [
      "2028\n",
      "   spectral_slope_mean  spectral_slope_std  \\\n",
      "0            -0.001603            0.001251   \n",
      "1            -0.003586            0.000784   \n",
      "2            -0.003375            0.000394   \n",
      "3            -0.003294            0.000389   \n",
      "4            -0.003123            0.000417   \n",
      "\n",
      "   spectral_slope_first_derivative_mean  spectral_slope_first_derivative_std  \\\n",
      "0                         -3.459567e-07                             0.000074   \n",
      "1                         -4.043923e-07                             0.000238   \n",
      "2                         -6.141489e-06                             0.000119   \n",
      "3                         -7.513756e-06                             0.000191   \n",
      "4                          5.198321e-06                             0.000082   \n",
      "\n",
      "   spectral_flux_mean  spectral_flux_std  spectral_flux_first_derivative_mean  \\\n",
      "0            0.012222           0.015000                             0.000039   \n",
      "1            0.036026           0.022815                             0.000622   \n",
      "2            0.019470           0.014257                             0.000350   \n",
      "3            0.028431           0.021824                             0.000580   \n",
      "4            0.013642           0.016270                             0.000272   \n",
      "\n",
      "   spectral_flux_first_derivative_std  spectral_entropy_mean  \\\n",
      "0                            0.005240               3.128901   \n",
      "1                            0.013922               3.437344   \n",
      "2                            0.008745               3.140800   \n",
      "3                            0.012776               3.421302   \n",
      "4                            0.010450               3.436817   \n",
      "\n",
      "   spectral_entropy_std  ...  kurtosis_slidingwindow_mean  \\\n",
      "0              0.428211  ...                    -1.136418   \n",
      "1              0.219249  ...                    -1.110575   \n",
      "2              0.141429  ...                    -1.172181   \n",
      "3              0.149333  ...                    -0.721544   \n",
      "4              0.176545  ...                    -0.640492   \n",
      "\n",
      "   kurtosis_slidingwindow_std  kurtosis_slidingwindow_first_derivative_mean  \\\n",
      "0                    0.297450                                      0.000214   \n",
      "1                    0.320122                                     -0.000354   \n",
      "2                    0.185673                                      0.002210   \n",
      "3                    0.349275                                     -0.011583   \n",
      "4                    0.099756                                      0.001423   \n",
      "\n",
      "   kurtosis_slidingwindow_first_derivative_std  shannon_entropy   loudness  \\\n",
      "0                                     0.065200     11174.974609 -12.218047   \n",
      "1                                     0.097133     10169.483398 -12.969087   \n",
      "2                                     0.055413      9622.029297 -14.310860   \n",
      "3                                     0.115190      3610.460938 -15.626031   \n",
      "4                                     0.057943      5525.905273 -16.935918   \n",
      "\n",
      "   shannon_entropy_slidingwindow_mean  shannon_entropy_slidingwindow_std  \\\n",
      "0                          150.943789                         179.854565   \n",
      "1                          263.996383                         128.017793   \n",
      "2                          234.485081                          42.576934   \n",
      "3                          184.809111                          37.957545   \n",
      "4                          152.709995                          34.403127   \n",
      "\n",
      "   shannon_entropy_slidingwindow_first_derivative_mean  \\\n",
      "0                                          -0.038937     \n",
      "1                                          -1.144050     \n",
      "2                                          -0.842061     \n",
      "3                                          -1.873272     \n",
      "4                                          -1.094046     \n",
      "\n",
      "   shannon_entropy_slidingwindow_first_derivative_std  \n",
      "0                                           9.450179   \n",
      "1                                          15.894532   \n",
      "2                                          10.921479   \n",
      "3                                          12.514671   \n",
      "4                                           7.066755   \n",
      "\n",
      "[5 rows x 69 columns]\n"
     ]
    }
   ],
   "source": [
    "print(len(feature_df))\n",
    "print(feature_df.head())"
   ]
  },
  {
   "cell_type": "markdown",
   "metadata": {},
   "source": [
    "### Merge features with recording number and double-check shape."
   ]
  },
  {
   "cell_type": "code",
   "execution_count": 54,
   "metadata": {},
   "outputs": [
    {
     "name": "stdout",
     "output_type": "stream",
     "text": [
      "(2028, 70)\n"
     ]
    }
   ],
   "source": [
    "recording_numbers = pd.DataFrame(recording_numbers)\n",
    "recording_numbers.columns = ['recording_number']\n",
    "\n",
    "test = pd.concat([feature_df, recording_numbers], axis = 1)\n",
    "print(test.shape)"
   ]
  },
  {
   "cell_type": "markdown",
   "metadata": {},
   "source": [
    "### Output features with recording number (to merge with existing features)"
   ]
  },
  {
   "cell_type": "code",
   "execution_count": 55,
   "metadata": {},
   "outputs": [],
   "source": [
    "test.to_csv(\"Surfboard_Features_10_23_u_lhl.csv\", index = False)"
   ]
  }
 ],
 "metadata": {
  "kernelspec": {
   "display_name": "gpu_environment",
   "language": "python",
   "name": "gpu_environment"
  },
  "language_info": {
   "codemirror_mode": {
    "name": "ipython",
    "version": 3
   },
   "file_extension": ".py",
   "mimetype": "text/x-python",
   "name": "python",
   "nbconvert_exporter": "python",
   "pygments_lexer": "ipython3",
   "version": "3.7.7"
  }
 },
 "nbformat": 4,
 "nbformat_minor": 4
}
